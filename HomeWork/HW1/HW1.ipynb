{
 "cells": [
  {
   "metadata": {},
   "cell_type": "markdown",
   "source": "МОЕ ПЕРВОЕ ДЗ",
   "id": "6b5deeb90fb06b29"
  },
  {
   "cell_type": "code",
   "id": "initial_id",
   "metadata": {
    "collapsed": true,
    "ExecuteTime": {
     "end_time": "2024-09-22T21:21:09.539863Z",
     "start_time": "2024-09-22T21:21:08.006772Z"
    }
   },
   "source": "import pandas as pd",
   "outputs": [],
   "execution_count": 1
  }
 ],
 "metadata": {
  "kernelspec": {
   "display_name": "Python 3",
   "language": "python",
   "name": "python3"
  },
  "language_info": {
   "codemirror_mode": {
    "name": "ipython",
    "version": 2
   },
   "file_extension": ".py",
   "mimetype": "text/x-python",
   "name": "python",
   "nbconvert_exporter": "python",
   "pygments_lexer": "ipython2",
   "version": "2.7.6"
  }
 },
 "nbformat": 4,
 "nbformat_minor": 5
}
